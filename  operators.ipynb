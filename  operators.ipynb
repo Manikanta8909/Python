{
 "cells": [
  {
   "cell_type": "markdown",
   "id": "71f44cc8",
   "metadata": {},
   "source": [
    "# Operators\n"
   ]
  },
  {
   "cell_type": "markdown",
   "id": "2c0754b2",
   "metadata": {},
   "source": [
    "### 1. Arithematic Operators"
   ]
  },
  {
   "cell_type": "code",
   "execution_count": 1,
   "id": "1d63a279",
   "metadata": {},
   "outputs": [
    {
     "name": "stdout",
     "output_type": "stream",
     "text": [
      "14\n",
      "6\n",
      "40\n",
      "2.5\n",
      "2\n",
      "2\n",
      "10000\n"
     ]
    }
   ],
   "source": [
    "a,b = 10 ,4\n",
    "print(a+b) #'+'operator used for addition \n",
    "print(a-b) # '-'operator used for subtraction \n",
    "print(a*b) #'*'operator used for multipilcation\n",
    "print(a/b) #'/'operator used for division\n",
    "print(a//b) #'//'operator used for floor divison \n",
    "print(a%b) #'%' operator used for modulus of divison\n",
    "print(a**b) # '**' operator used for exponention"
   ]
  },
  {
   "cell_type": "markdown",
   "id": "c4610789",
   "metadata": {},
   "source": [
    "###  2. Comparison operations"
   ]
  },
  {
   "cell_type": "code",
   "execution_count": 3,
   "id": "d112424e",
   "metadata": {},
   "outputs": [
    {
     "name": "stdout",
     "output_type": "stream",
     "text": [
      "False\n",
      "True\n",
      "True\n",
      "False\n",
      "True\n",
      "False\n"
     ]
    }
   ],
   "source": [
    "print(a==b) #whether a equal to b\n",
    "print(a!=b) #whether a  not equal to b\n",
    "print(a>b) #whether a greater than b\n",
    "print(a<b) #whether aless than  b\n",
    "print(a>=b) #whether a equal to b or a greater than b \n",
    "print(a<=b) #whether a equal to b or a less than b"
   ]
  },
  {
   "cell_type": "markdown",
   "id": "140ed924",
   "metadata": {},
   "source": [
    "### 3. Identity Operators"
   ]
  },
  {
   "cell_type": "code",
   "execution_count": 4,
   "id": "8e05778d",
   "metadata": {},
   "outputs": [
    {
     "name": "stdout",
     "output_type": "stream",
     "text": [
      "False\n",
      "True\n"
     ]
    }
   ],
   "source": [
    "print(a is b) # (\"is\" checking wether 'a' and 'b' having same address location)\n",
    "print(a is not b) # (\"is not\" checking 'a' and 'b' having different address location or not)"
   ]
  },
  {
   "cell_type": "markdown",
   "id": "6acdf352",
   "metadata": {},
   "source": [
    "### 4. Logical Operators"
   ]
  },
  {
   "cell_type": "code",
   "execution_count": 6,
   "id": "af53e48e",
   "metadata": {},
   "outputs": [
    {
     "name": "stdout",
     "output_type": "stream",
     "text": [
      "False\n",
      "True\n"
     ]
    }
   ],
   "source": [
    "print(a>b and a<b) #Displays boolean value based on logical and operation\n",
    "print(a>b or a<b) #Displays boolean value based on logical or operation"
   ]
  },
  {
   "cell_type": "markdown",
   "id": "064aee84",
   "metadata": {},
   "source": [
    "### 5. Bitwise Operator"
   ]
  },
  {
   "cell_type": "code",
   "execution_count": 9,
   "id": "e00bbf36",
   "metadata": {},
   "outputs": [
    {
     "name": "stdout",
     "output_type": "stream",
     "text": [
      "0\n",
      "14\n",
      "14\n",
      "0\n",
      "-11 -5\n",
      "224\n"
     ]
    }
   ],
   "source": [
    "d, e = 7, 5\n",
    "print(a&b) #((AND\"&\") operation bitwise gives output by performing)\n",
    "print(a | b) #((OR\"|\") operation bitwise gives output by performing)\n",
    "print(a^b) #(EXOR\"^\") operation bitwise gives output by performing)\n",
    "print(d>>e) #((RIGHT SHIFT\">>\") operation bitwise gives output by performing)\n",
    "print(~a,~b) #((NOT\"~\") operation bitwise gives output by performing)\n",
    "print(d<<e) #((LEFT SHIFT\"<<\") operation bitwise gives output by performing)"
   ]
  },
  {
   "cell_type": "markdown",
   "id": "76edea81",
   "metadata": {},
   "source": [
    "### 6. Membership operator"
   ]
  },
  {
   "cell_type": "code",
   "execution_count": 10,
   "id": "e5a4ad41",
   "metadata": {},
   "outputs": [
    {
     "name": "stdout",
     "output_type": "stream",
     "text": [
      "True\n",
      "True\n"
     ]
    }
   ],
   "source": [
    "m= [1,5,7]\n",
    "n = 7\n",
    "h = '143'\n",
    "i = '5'\n",
    "print(n in m) # ( checking 'n' is in 'm' or not)\n",
    "print( i not in h ) #(checking 'd' is not in 'f'or not)"
   ]
  },
  {
   "cell_type": "markdown",
   "id": "49e3debe",
   "metadata": {},
   "source": [
    "### 7. Assignment operator"
   ]
  },
  {
   "cell_type": "code",
   "execution_count": 12,
   "id": "ea6572ef",
   "metadata": {},
   "outputs": [
    {
     "name": "stdout",
     "output_type": "stream",
     "text": [
      "4\n",
      "8\n",
      "4\n",
      "16\n",
      "4.0\n",
      "1.0\n",
      "1.0\n",
      "1.0\n",
      "0\n",
      "4\n",
      "0\n",
      "0\n",
      "0\n"
     ]
    }
   ],
   "source": [
    "a=b\n",
    "print(a) #a value is assigned to a\n",
    "a+=b\n",
    "print(a) #increments a value by b\n",
    "a-=b\n",
    "print(a) #decrements a value by b\n",
    "a*=b\n",
    "print(a) #Multiplies a value by b and stores in a\n",
    "a/=b\n",
    "print(a) #divides a value by b and stores in a\n",
    "a//=b\n",
    "print(a) #floor divides a value by b and stores in a\n",
    "a%=b\n",
    "print(a) #modulos a value by b and stores in a\n",
    "a**=b\n",
    "print(a) #exponents a value by b and stores in a\n",
    "a = 16    #changing A value to integer to avoid Type error\n",
    "a&=b\n",
    "print(a) #performs AND(&) with a value by b and stores in a\n",
    "a|=b\n",
    "print(a) #performs OR(|) with a value by b and stores in a\n",
    "a^=b\n",
    "print(a) #performs EXOR(^) with a value by b and stores in a\n",
    "a<<=b\n",
    "print(a) #performs LEFT SHIFT(<<) with a value by b and stores in a\n",
    "a>>=b\n",
    "print(a) #performs RIGHT SHIFT(>>) with a value by b and stores in a"
   ]
  }
 ],
 "metadata": {
  "kernelspec": {
   "display_name": "Python 3 (ipykernel)",
   "language": "python",
   "name": "python3"
  },
  "language_info": {
   "codemirror_mode": {
    "name": "ipython",
    "version": 3
   },
   "file_extension": ".py",
   "mimetype": "text/x-python",
   "name": "python",
   "nbconvert_exporter": "python",
   "pygments_lexer": "ipython3",
   "version": "3.11.3"
  }
 },
 "nbformat": 4,
 "nbformat_minor": 5
}
