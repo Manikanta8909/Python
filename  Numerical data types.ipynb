{
 "cells": [
  {
   "cell_type": "markdown",
   "id": "75fca4ae",
   "metadata": {},
   "source": [
    "## Data types\n",
    "\n",
    "### numeric-->int(bin,oct,hex),float,complex."
   ]
  },
  {
   "cell_type": "code",
   "execution_count": 1,
   "id": "641bea6a",
   "metadata": {},
   "outputs": [
    {
     "name": "stdout",
     "output_type": "stream",
     "text": [
      "9.27 <class 'float'>\n",
      "9 <class 'int'>\n",
      "6 <class 'str'>\n",
      "6 <class 'int'>\n",
      "(7-3j) <class 'complex'>\n"
     ]
    },
    {
     "data": {
      "text/plain": [
       "(7.0, -3.0)"
      ]
     },
     "execution_count": 1,
     "metadata": {},
     "output_type": "execute_result"
    }
   ],
   "source": [
    "x = 9.27\n",
    "print(x, type(x))\n",
    "                                      # type casting ----> changing the values type\n",
    "x = int(x)\n",
    "print(x, type(x))\n",
    "\n",
    "x = '6'\n",
    "print(x, type(x))\n",
    "x = int(x)\n",
    "print(x, type(x))\n",
    "\n",
    "x = 7-3j\n",
    "print(x, type(x))\n",
    "\n",
    "x.real, x.imag"
   ]
  },
  {
   "cell_type": "markdown",
   "id": "466f0209",
   "metadata": {},
   "source": [
    "### binary , octal , hex"
   ]
  },
  {
   "cell_type": "code",
   "execution_count": 2,
   "id": "e1213978",
   "metadata": {},
   "outputs": [
    {
     "name": "stdout",
     "output_type": "stream",
     "text": [
      "7 <class 'int'>\n",
      "0b111 <class 'str'>\n"
     ]
    }
   ],
   "source": [
    "#binary \n",
    "\n",
    "x = 7\n",
    "print(x, type(x))\n",
    "x = bin(x)\n",
    "print(x, type(x))"
   ]
  },
  {
   "cell_type": "code",
   "execution_count": 3,
   "id": "ff67a3b6",
   "metadata": {},
   "outputs": [
    {
     "name": "stdout",
     "output_type": "stream",
     "text": [
      "15 <class 'int'>\n",
      "0o17 <class 'str'>\n"
     ]
    }
   ],
   "source": [
    "# octal\n",
    "\n",
    "x = 15\n",
    "print(x, type(x))\n",
    "x = oct(x)\n",
    "print(x, type(x))"
   ]
  },
  {
   "cell_type": "code",
   "execution_count": 4,
   "id": "fc70ba61",
   "metadata": {},
   "outputs": [
    {
     "name": "stdout",
     "output_type": "stream",
     "text": [
      "13 <class 'int'>\n",
      "0xd <class 'str'>\n"
     ]
    }
   ],
   "source": [
    "# hex\n",
    "\n",
    "x = 13\n",
    "print(x, type(x))\n",
    "x = hex(x)\n",
    "print(x, type(x))"
   ]
  },
  {
   "cell_type": "markdown",
   "id": "5aee5471",
   "metadata": {},
   "source": [
    "### converting bin, oct &hex into int"
   ]
  },
  {
   "cell_type": "code",
   "execution_count": 5,
   "id": "af435b36",
   "metadata": {},
   "outputs": [
    {
     "name": "stdout",
     "output_type": "stream",
     "text": [
      "17 17\n",
      "15 15\n",
      "5 5\n"
     ]
    }
   ],
   "source": [
    "#hex\n",
    "print(int('0x11', 0), int('011',16)) # 'x' represents of hex into int\n",
    "#oct\n",
    "print(int('0o17',0),int ('017',8 )) # 'o' represents of oct into int\n",
    "#bin\n",
    "print(int('0b101',0), int('101',2)) # 'b' represnts  of bin into int"
   ]
  },
  {
   "cell_type": "markdown",
   "id": "4b1ae1da",
   "metadata": {},
   "source": [
    "### Defined bases"
   ]
  },
  {
   "cell_type": "code",
   "execution_count": 6,
   "id": "91ecaab3",
   "metadata": {},
   "outputs": [
    {
     "data": {
      "text/plain": [
       "(17, 15, 5)"
      ]
     },
     "execution_count": 6,
     "metadata": {},
     "output_type": "execute_result"
    }
   ],
   "source": [
    "int('011',16),int ('017',8 ),int('101',2)"
   ]
  },
  {
   "cell_type": "markdown",
   "id": "763a4d5a",
   "metadata": {},
   "source": [
    "## Sequence(ordered or unordered)-->strings(\"\",\"\",\"),lists[],tuples()"
   ]
  },
  {
   "cell_type": "code",
   "execution_count": 7,
   "id": "537a3650",
   "metadata": {},
   "outputs": [
    {
     "name": "stdout",
     "output_type": "stream",
     "text": [
      "m\n"
     ]
    },
    {
     "data": {
      "text/plain": [
       "'n'"
      ]
     },
     "execution_count": 7,
     "metadata": {},
     "output_type": "execute_result"
    }
   ],
   "source": [
    "x = 'braveman'\n",
    "print(x[5])\n",
    "x[7]"
   ]
  },
  {
   "cell_type": "markdown",
   "id": "19fbf09e",
   "metadata": {},
   "source": [
    "### Slicing"
   ]
  },
  {
   "cell_type": "code",
   "execution_count": 8,
   "id": "a4ba5da0",
   "metadata": {},
   "outputs": [
    {
     "name": "stdout",
     "output_type": "stream",
     "text": [
      "scienc\n",
      "data scienc\n",
      "science\n",
      "sin\n",
      "dt cec\n"
     ]
    }
   ],
   "source": [
    "                #syntax:[start_index:end_index:step] By default step = 1. \n",
    "y = 'data science'\n",
    "print(y[5:11])\n",
    "print(y[:11])\n",
    "print(y[5:])\n",
    "print(y[5:11:2])\n",
    "print(y[::2])"
   ]
  },
  {
   "cell_type": "code",
   "execution_count": 9,
   "id": "5b91dc7e",
   "metadata": {},
   "outputs": [
    {
     "name": "stdout",
     "output_type": "stream",
     "text": [
      "9.7\n",
      "[1, 9.7, <built-in function print>, (2+7j)]\n",
      "[<built-in function print>, (2+7j), 'brave', False]\n",
      "brave\n",
      "[]\n",
      "[False, 'brave', (2+7j), <built-in function print>, 9.7, 1]\n"
     ]
    }
   ],
   "source": [
    "      #list:list is a heterogeneous container.It can contain int,float,complex,string,boolen.\n",
    "x = [1,9.7,print,2+7j,'brave',False]\n",
    "print(x[1])\n",
    "print(x[:4])\n",
    "print(x[2:])\n",
    "print(x[-2])   #negitive indexing in python starts from -1\n",
    "print(x[-1:-5])\n",
    "print(x[::-1]) #reversing syntax:[::-1]"
   ]
  }
 ],
 "metadata": {
  "kernelspec": {
   "display_name": "Python 3 (ipykernel)",
   "language": "python",
   "name": "python3"
  },
  "language_info": {
   "codemirror_mode": {
    "name": "ipython",
    "version": 3
   },
   "file_extension": ".py",
   "mimetype": "text/x-python",
   "name": "python",
   "nbconvert_exporter": "python",
   "pygments_lexer": "ipython3",
   "version": "3.11.3"
  }
 },
 "nbformat": 4,
 "nbformat_minor": 5
}
